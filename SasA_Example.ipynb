{
 "cells": [
  {
   "cell_type": "code",
   "execution_count": 2,
   "metadata": {},
   "outputs": [],
   "source": [
    "import utils_sleepasandroid as us\n",
    "import matplotlib.pyplot as plt\n",
    "import numpy as np\n",
    "import os"
   ]
  },
  {
   "cell_type": "code",
   "execution_count": 3,
   "metadata": {},
   "outputs": [],
   "source": [
    "%matplotlib inline\n",
    "%load_ext autoreload\n",
    "%autoreload 2"
   ]
  },
  {
   "cell_type": "code",
   "execution_count": 4,
   "metadata": {},
   "outputs": [
    {
     "data": {
      "text/plain": [
       "['Id',\n",
       " 'Tz',\n",
       " 'From',\n",
       " 'To',\n",
       " 'Sched',\n",
       " 'Hours',\n",
       " 'Rating',\n",
       " 'Comment',\n",
       " 'Framerate',\n",
       " 'Snore',\n",
       " 'Noise',\n",
       " 'Cycles',\n",
       " 'DeepSleep',\n",
       " 'LenAdjust',\n",
       " 'Geo']"
      ]
     },
     "execution_count": 4,
     "metadata": {},
     "output_type": "execute_result"
    }
   ],
   "source": [
    "# Read in the Sleep as Android data and print some of the headers\n",
    "SA_data = 'sample_data/SleepAsAndroid_data.csv'\n",
    "sa_file_as_list = us.read_sleepasandroid_file(SA_data)\n",
    "sa_file_as_list[0][0:15]"
   ]
  },
  {
   "cell_type": "code",
   "execution_count": 22,
   "metadata": {},
   "outputs": [
    {
     "data": {
      "text/plain": [
       "[['AWAKE_START', '1521283215630'],\n",
       " ['AWAKE_END', '1521283515630'],\n",
       " ['AWAKE_START', '1521287920946'],\n",
       " ['AWAKE_END', '1521288520946']]"
      ]
     },
     "execution_count": 22,
     "metadata": {},
     "output_type": "execute_result"
    }
   ],
   "source": [
    "# Parse the first record\n",
    "ridx  = 0\n",
    "split_record = us.split_sleepasandroid_record(sa_file_as_list, ridx)\n",
    "\n",
    "# Print the awake records to get an idea of the data\n",
    "split_record.awake"
   ]
  },
  {
   "cell_type": "code",
   "execution_count": 21,
   "metadata": {},
   "outputs": [
    {
     "data": {
      "text/plain": [
       "[['LIGHT_START', '1521266889893'],\n",
       " ['LIGHT_END', '1521267189893'],\n",
       " ['LIGHT_START', '1521268689893'],\n",
       " ['LIGHT_END', '1521269589893'],\n",
       " ['LIGHT_START', '1521270489893'],\n",
       " ['LIGHT_END', '1521271389893']]"
      ]
     },
     "execution_count": 21,
     "metadata": {},
     "output_type": "execute_result"
    }
   ],
   "source": [
    "split_record.light_sleep[0:6]"
   ]
  },
  {
   "cell_type": "code",
   "execution_count": 10,
   "metadata": {},
   "outputs": [
    {
     "data": {
      "text/plain": [
       "[['DEEP_START', '1521267189893'],\n",
       " ['DEEP_END', '1521268689893'],\n",
       " ['DEEP_START', '1521269589893'],\n",
       " ['DEEP_END', '1521270489893'],\n",
       " ['DEEP_START', '1521271389893'],\n",
       " ['DEEP_END', '1521273789893']]"
      ]
     },
     "execution_count": 10,
     "metadata": {},
     "output_type": "execute_result"
    }
   ],
   "source": [
    "split_record.deep_sleep[0:6]"
   ]
  },
  {
   "cell_type": "code",
   "execution_count": 24,
   "metadata": {},
   "outputs": [],
   "source": [
    "# remp sleep is empty on this record so nothing is displayed\n",
    "split_record.rem_sleep"
   ]
  },
  {
   "cell_type": "code",
   "execution_count": 25,
   "metadata": {},
   "outputs": [],
   "source": [
    "sleep_record, ls_record, ds_record, awake_record = us.parse_sleep_records(split_record)"
   ]
  },
  {
   "cell_type": "code",
   "execution_count": 26,
   "metadata": {},
   "outputs": [
    {
     "data": {
      "text/plain": [
       "array(['LightSleep', 'DeepSleep', 'LightSleep', 'DeepSleep', 'LightSleep',\n",
       "       'DeepSleep', 'LightSleep', 'DeepSleep', 'LightSleep', 'DeepSleep',\n",
       "       'LightSleep', 'DeepSleep', 'LightSleep', 'DeepSleep', 'LightSleep',\n",
       "       'Awake', 'DeepSleep', 'LightSleep', 'DeepSleep', 'LightSleep',\n",
       "       'DeepSleep', 'LightSleep', 'Awake', 'DeepSleep', 'LightSleep'],\n",
       "      dtype=object)"
      ]
     },
     "execution_count": 26,
     "metadata": {},
     "output_type": "execute_result"
    }
   ],
   "source": [
    "sleep_record.stage"
   ]
  },
  {
   "cell_type": "code",
   "execution_count": 27,
   "metadata": {},
   "outputs": [
    {
     "data": {
      "text/plain": [
       "array([       0,  1800000,  3600000,  6900000, 11400000, 12300000,\n",
       "       14400000, 15900000, 18600000, 19500000, 21000000, 23700000])"
      ]
     },
     "execution_count": 27,
     "metadata": {},
     "output_type": "execute_result"
    }
   ],
   "source": [
    "ls_record.cycle_start_ms"
   ]
  },
  {
   "cell_type": "code",
   "execution_count": 28,
   "metadata": {},
   "outputs": [
    {
     "data": {
      "text/plain": [
       "array([  300000,  2700000,  4500000, 10500000, 11700000, 13800000,\n",
       "       15300000, 16500000, 18900000, 20400000, 21900000, 26878512])"
      ]
     },
     "execution_count": 28,
     "metadata": {},
     "output_type": "execute_result"
    }
   ],
   "source": [
    "ls_record.cycle_end_ms"
   ]
  },
  {
   "cell_type": "code",
   "execution_count": 29,
   "metadata": {},
   "outputs": [
    {
     "data": {
      "text/plain": [
       "Awake_Record(cycle_start_ms=array([16325737, 21031053]), cycle_end_ms=array([16625737, 21631053]), cycle_duration_ms=array([300000, 600000]), ncycles=2)"
      ]
     },
     "execution_count": 29,
     "metadata": {},
     "output_type": "execute_result"
    }
   ],
   "source": [
    "awake_record"
   ]
  },
  {
   "cell_type": "code",
   "execution_count": 30,
   "metadata": {},
   "outputs": [
    {
     "data": {
      "text/plain": [
       "('ncycles', 'start_ms', 'end_ms', 'duration_ms', 'stage', 'stage_code')"
      ]
     },
     "execution_count": 30,
     "metadata": {},
     "output_type": "execute_result"
    }
   ],
   "source": [
    "sleep_record._fields"
   ]
  },
  {
   "cell_type": "code",
   "execution_count": 31,
   "metadata": {},
   "outputs": [
    {
     "data": {
      "text/plain": [
       "array([       0,   300000,  1800000,  2700000,  3600000,  4500000,\n",
       "        6900000, 10500000, 11400000, 11700000, 12300000, 13800000,\n",
       "       14400000, 15300000, 15900000, 16325737, 16500000, 18600000,\n",
       "       18900000, 19500000, 20400000, 21000000, 21031053, 21900000,\n",
       "       23700000])"
      ]
     },
     "execution_count": 31,
     "metadata": {},
     "output_type": "execute_result"
    }
   ],
   "source": [
    "sleep_record.start_ms"
   ]
  },
  {
   "cell_type": "code",
   "execution_count": 32,
   "metadata": {},
   "outputs": [
    {
     "data": {
      "text/plain": [
       "array([  300000,  1800000,  2700000,  3600000,  4500000,  6900000,\n",
       "       10500000, 11400000, 11700000, 12300000, 13800000, 14400000,\n",
       "       15300000, 15900000, 16500000, 16625737, 18600000, 18900000,\n",
       "       19500000, 20400000, 21000000, 21900000, 21631053, 23700000,\n",
       "       26878512])"
      ]
     },
     "execution_count": 32,
     "metadata": {},
     "output_type": "execute_result"
    }
   ],
   "source": [
    "sleep_record.end_ms"
   ]
  },
  {
   "cell_type": "code",
   "execution_count": 34,
   "metadata": {},
   "outputs": [
    {
     "name": "stdout",
     "output_type": "stream",
     "text": [
      "61.40625 65.04676275\n"
     ]
    }
   ],
   "source": [
    "heartRateData = np.array(split_record.hr)\n",
    "heartRateData = np.array(heartRateData[:].T[2], dtype=float)\n",
    "rHR_p5 = np.percentile(heartRateData, 5)\n",
    "rHR = heartRateData.min()\n",
    "print(rHR, rHR_p5)"
   ]
  },
  {
   "cell_type": "code",
   "execution_count": 35,
   "metadata": {},
   "outputs": [
    {
     "data": {
      "text/plain": [
       "Text(30000,2.25,'Resting Heart Rate = 65')"
      ]
     },
     "execution_count": 35,
     "metadata": {},
     "output_type": "execute_result"
    },
    {
     "data": {
      "image/png": "[encoded data removed]",
      "text/plain": [
       "<Figure size 432x288 with 1 Axes>"
      ]
     },
     "metadata": {},
     "output_type": "display_data"
    }
   ],
   "source": [
    "fig, ax = plt.subplots()\n",
    "for idx in range(sleep_record.ncycles):\n",
    "    start = sleep_record.start_ms[idx]\n",
    "    end = sleep_record.end_ms[idx]\n",
    "    x = [start, start, end, end]\n",
    "    scode = sleep_record.stage_code[idx]\n",
    "    \n",
    "    if sleep_record.stage[idx] == 'LightSleep':\n",
    "        y = [1.5, scode, scode, 1.5]\n",
    "        c = 'cyan'\n",
    "    elif sleep_record.stage[idx] == 'DeepSleep':\n",
    "        y = [1.5, scode, scode, 1.5]\n",
    "        c = 'blue'\n",
    "    elif sleep_record.stage[idx] == 'Awake':\n",
    "        y = [2, scode, scode, 2]\n",
    "        c = 'green'\n",
    "    ax.plot(x, y, color=c)\n",
    "ax.plot([],[], c='cyan', label='LightSleep')\n",
    "ax.plot([],[], c='blue', label='DeepSleep')\n",
    "ax.plot([],[], c='green', label='Awake')\n",
    "ax.legend(loc=2)\n",
    "ax.text(30000, 2.25, 'Resting Heart Rate = {0}'.format(int(rHR_p5)))"
   ]
  },
  {
   "cell_type": "markdown",
   "metadata": {},
   "source": [
    "# Lets iterate through the file now"
   ]
  },
  {
   "cell_type": "code",
   "execution_count": 36,
   "metadata": {},
   "outputs": [
    {
     "data": {
      "text/plain": [
       "175"
      ]
     },
     "execution_count": 36,
     "metadata": {},
     "output_type": "execute_result"
    }
   ],
   "source": [
    "fl_nLines = len(sa_file_as_list)\n",
    "fl_nLines"
   ]
  },
  {
   "cell_type": "code",
   "execution_count": 38,
   "metadata": {},
   "outputs": [
    {
     "name": "stderr",
     "output_type": "stream",
     "text": [
      "C:\\Repositories_C\\pyhealth\\utils_sleepasandroid.py:40: UserWarning: manual entry found, unable to parse sleep data\n",
      "  light_sleep = []\n",
      "C:\\Repositories_C\\pyhealth\\utils_sleepasandroid.py:88: UserWarning: unrecognized event: ['LOW_BATTERY', '1518789353255']\n",
      "  noise, alarm]:\n",
      "C:\\Repositories_C\\pyhealth\\utils_sleepasandroid.py:88: UserWarning: unrecognized event: ['TRACKING_PAUSED', '1516371135501']\n",
      "  noise, alarm]:\n",
      "C:\\Repositories_C\\pyhealth\\utils_sleepasandroid.py:88: UserWarning: unrecognized event: ['TRACKING_RESUMED', '1516371330484']\n",
      "  noise, alarm]:\n",
      "C:\\Repositories_C\\pyhealth\\utils_sleepasandroid.py:88: UserWarning: unrecognized event: ['TRACKING_PAUSED', '1515938738634']\n",
      "  noise, alarm]:\n",
      "C:\\Repositories_C\\pyhealth\\utils_sleepasandroid.py:88: UserWarning: unrecognized event: ['TRACKING_RESUMED', '1515938859979']\n",
      "  noise, alarm]:\n",
      "C:\\Repositories_C\\pyhealth\\utils_sleepasandroid.py:88: UserWarning: unrecognized event: ['TRACKING_PAUSED', '1515592818031']\n",
      "  noise, alarm]:\n",
      "C:\\Repositories_C\\pyhealth\\utils_sleepasandroid.py:88: UserWarning: unrecognized event: ['TRACKING_RESUMED', '1515593130524']\n",
      "  noise, alarm]:\n",
      "C:\\Repositories_C\\pyhealth\\utils_sleepasandroid.py:88: UserWarning: unrecognized event: ['TRACKING_PAUSED', '1515423045601']\n",
      "  noise, alarm]:\n",
      "C:\\Repositories_C\\pyhealth\\utils_sleepasandroid.py:88: UserWarning: unrecognized event: ['TRACKING_RESUMED', '1515423066331']\n",
      "  noise, alarm]:\n",
      "C:\\Repositories_C\\pyhealth\\utils_sleepasandroid.py:88: UserWarning: unrecognized event: ['TRACKING_PAUSED', '1514901924298']\n",
      "  noise, alarm]:\n",
      "C:\\Repositories_C\\pyhealth\\utils_sleepasandroid.py:88: UserWarning: unrecognized event: ['TRACKING_RESUMED', '1514902246698']\n",
      "  noise, alarm]:\n",
      "C:\\Repositories_C\\pyhealth\\utils_sleepasandroid.py:88: UserWarning: unrecognized event: ['TRACKING_PAUSED', '1514818000157']\n",
      "  noise, alarm]:\n",
      "C:\\Repositories_C\\pyhealth\\utils_sleepasandroid.py:88: UserWarning: unrecognized event: ['TRACKING_RESUMED', '1514818211543']\n",
      "  noise, alarm]:\n",
      "C:\\Repositories_C\\pyhealth\\utils_sleepasandroid.py:88: UserWarning: unrecognized event: ['TRACKING_PAUSED', '1514560026356']\n",
      "  noise, alarm]:\n",
      "C:\\Repositories_C\\pyhealth\\utils_sleepasandroid.py:88: UserWarning: unrecognized event: ['TRACKING_RESUMED', '1514560049274']\n",
      "  noise, alarm]:\n",
      "C:\\Repositories_C\\pyhealth\\utils_sleepasandroid.py:88: UserWarning: unrecognized event: ['TRACKING_PAUSED', '1514387268740']\n",
      "  noise, alarm]:\n",
      "C:\\Repositories_C\\pyhealth\\utils_sleepasandroid.py:88: UserWarning: unrecognized event: ['TRACKING_RESUMED', '1514387591966']\n",
      "  noise, alarm]:\n",
      "C:\\Repositories_C\\pyhealth\\utils_sleepasandroid.py:88: UserWarning: unrecognized event: ['TRACKING_PAUSED', '1514300020341']\n",
      "  noise, alarm]:\n",
      "C:\\Repositories_C\\pyhealth\\utils_sleepasandroid.py:88: UserWarning: unrecognized event: ['TRACKING_RESUMED', '1514300136602']\n",
      "  noise, alarm]:\n",
      "C:\\Repositories_C\\pyhealth\\utils_sleepasandroid.py:88: UserWarning: unrecognized event: ['TRACKING_PAUSED', '1514187736003']\n",
      "  noise, alarm]:\n",
      "C:\\Repositories_C\\pyhealth\\utils_sleepasandroid.py:88: UserWarning: unrecognized event: ['TRACKING_RESUMED', '1514187759633']\n",
      "  noise, alarm]:\n",
      "C:\\Repositories_C\\pyhealth\\utils_sleepasandroid.py:88: UserWarning: unrecognized event: ['TRACKING_PAUSED', '1514214969606']\n",
      "  noise, alarm]:\n",
      "C:\\Repositories_C\\pyhealth\\utils_sleepasandroid.py:88: UserWarning: unrecognized event: ['TRACKING_RESUMED', '1514214989824']\n",
      "  noise, alarm]:\n",
      "C:\\Repositories_C\\pyhealth\\utils_sleepasandroid.py:88: UserWarning: unrecognized event: ['TRACKING_PAUSED', '1514127732806']\n",
      "  noise, alarm]:\n",
      "C:\\Repositories_C\\pyhealth\\utils_sleepasandroid.py:88: UserWarning: unrecognized event: ['TRACKING_RESUMED', '1514127764721']\n",
      "  noise, alarm]:\n",
      "C:\\Repositories_C\\pyhealth\\utils_sleepasandroid.py:88: UserWarning: unrecognized event: ['TRACKING_PAUSED', '1513508155744']\n",
      "  noise, alarm]:\n",
      "C:\\Repositories_C\\pyhealth\\utils_sleepasandroid.py:88: UserWarning: unrecognized event: ['TRACKING_RESUMED', '1513509276461']\n",
      "  noise, alarm]:\n",
      "C:\\Repositories_C\\pyhealth\\utils_sleepasandroid.py:88: UserWarning: unrecognized event: ['TRACKING_PAUSED', '1513434373250']\n",
      "  noise, alarm]:\n",
      "C:\\Repositories_C\\pyhealth\\utils_sleepasandroid.py:88: UserWarning: unrecognized event: ['TRACKING_RESUMED', '1513434400663']\n",
      "  noise, alarm]:\n"
     ]
    }
   ],
   "source": [
    "idx = 0\n",
    "RestingHR = []\n",
    "RestingHRp5 = []\n",
    "while idx < fl_nLines:\n",
    "    if 'Id' in sa_file_as_list[idx]:\n",
    "        split_record = us.split_sleepasandroid_record(sa_file_as_list, idx)\n",
    "        if split_record:\n",
    "            if split_record.hr:\n",
    "                heartRateData = np.array(split_record.hr)\n",
    "                heartRateData = np.array(heartRateData[:].T[2], dtype=float)\n",
    "                RestingHRp5.append(int(np.percentile(heartRateData, 5)))\n",
    "                RestingHR.append(int(heartRateData.min()))\n",
    "    idx += 1"
   ]
  },
  {
   "cell_type": "code",
   "execution_count": 39,
   "metadata": {},
   "outputs": [
    {
     "data": {
      "text/plain": [
       "<matplotlib.legend.Legend at 0x1fd08963940>"
      ]
     },
     "execution_count": 39,
     "metadata": {},
     "output_type": "execute_result"
    },
    {
     "data": {
      "image/png": "[encoded data removed]",
      "text/plain": [
       "<Figure size 432x288 with 1 Axes>"
      ]
     },
     "metadata": {},
     "output_type": "display_data"
    }
   ],
   "source": [
    "plt_idx = [x for x in range(len(RestingHRp5))]\n",
    "fig, ax = plt.subplots()\n",
    "\n",
    "ax.plot(plt_idx, RestingHRp5, 'blue', label='P5 HR')\n",
    "ax.plot(plt_idx, RestingHR, 'cyan', label='Minimum HR')\n",
    "ax.set_title('Resting Heart Rate')\n",
    "ax.set_ylabel('Heart Rate BPM')\n",
    "ax.legend(loc=3)"
   ]
  },
  {
   "cell_type": "code",
   "execution_count": null,
   "metadata": {},
   "outputs": [],
   "source": []
  }
 ],
 "metadata": {
  "kernelspec": {
   "display_name": "Python 3",
   "language": "python",
   "name": "python3"
  },
  "language_info": {
   "codemirror_mode": {
    "name": "ipython",
    "version": 3
   },
   "file_extension": ".py",
   "mimetype": "text/x-python",
   "name": "python",
   "nbconvert_exporter": "python",
   "pygments_lexer": "ipython3",
   "version": "3.6.5"
  }
 },
 "nbformat": 4,
 "nbformat_minor": 2
}
