{
 "cells": [
  {
   "cell_type": "code",
   "execution_count": 1,
   "metadata": {},
   "outputs": [],
   "source": [
    "import utils_sleepasandroid as us\n",
    "import matplotlib.pyplot as plt\n",
    "import matplotlib.dates as mdates\n",
    "# from collections import namedtuple\n",
    "# import pendulum\n",
    "import numpy as np\n",
    "# import pathlib"
   ]
  },
  {
   "cell_type": "code",
   "execution_count": 2,
   "metadata": {},
   "outputs": [],
   "source": [
    "%matplotlib inline\n",
    "%load_ext autoreload\n",
    "%autoreload 2"
   ]
  },
  {
   "cell_type": "markdown",
   "metadata": {},
   "source": [
    "# First we'll parse one record from the Sleep as Android backup file"
   ]
  },
  {
   "cell_type": "code",
   "execution_count": 3,
   "metadata": {},
   "outputs": [
    {
     "data": {
      "text/plain": [
       "['Id',\n",
       " 'Tz',\n",
       " 'From',\n",
       " 'To',\n",
       " 'Sched',\n",
       " 'Hours',\n",
       " 'Rating',\n",
       " 'Comment',\n",
       " 'Framerate',\n",
       " 'Snore',\n",
       " 'Noise',\n",
       " 'Cycles',\n",
       " 'DeepSleep',\n",
       " 'LenAdjust',\n",
       " 'Geo']"
      ]
     },
     "execution_count": 3,
     "metadata": {},
     "output_type": "execute_result"
    }
   ],
   "source": [
    "# Read in the Sleep as Android data and print some of the headers\n",
    "SA_data = 'sample_data/SleepAsAndroid_data.csv'\n",
    "sa_file_as_list = us.read_sleepasandroid_file(SA_data)\n",
    "sa_file_as_list[0][0:15]"
   ]
  },
  {
   "cell_type": "code",
   "execution_count": 4,
   "metadata": {},
   "outputs": [
    {
     "name": "stderr",
     "output_type": "stream",
     "text": [
      "C:\\ProgramData\\Anaconda3\\lib\\site-packages\\pendulum\\pendulum.py:483: PendulumDeprecationWarning: The create() helper will no longer exist in version 2.0. Use datetime() instead.\n",
      "  return cls.create(**actual_parts)\n"
     ]
    },
    {
     "data": {
      "text/plain": [
       "('start_datetime',\n",
       " 'end_datetime',\n",
       " 'record_start_ms',\n",
       " 'record_end_ms',\n",
       " 'light_sleep',\n",
       " 'deep_sleep',\n",
       " 'rem_sleep',\n",
       " 'awake',\n",
       " 'heart_rate',\n",
       " 'hr_zone',\n",
       " 'noise_events',\n",
       " 'alarms',\n",
       " 'timezone')"
      ]
     },
     "execution_count": 4,
     "metadata": {},
     "output_type": "execute_result"
    }
   ],
   "source": [
    "# Parse the first record\n",
    "ridx  = 0\n",
    "split_record = us.split_sleepasandroid_record(sa_file_as_list, ridx)\n",
    "\n",
    "# Print the awake records to get an idea of the data\n",
    "split_record._fields"
   ]
  },
  {
   "cell_type": "code",
   "execution_count": 5,
   "metadata": {},
   "outputs": [
    {
     "data": {
      "text/plain": [
       "'America/Edmonton'"
      ]
     },
     "execution_count": 5,
     "metadata": {},
     "output_type": "execute_result"
    }
   ],
   "source": [
    "# what time zone is this record in?\n",
    "split_record.timezone"
   ]
  },
  {
   "cell_type": "markdown",
   "metadata": {},
   "source": [
    "## Now we'll take the parsed record and create records for each sleep stage"
   ]
  },
  {
   "cell_type": "code",
   "execution_count": 6,
   "metadata": {},
   "outputs": [],
   "source": [
    "sleep_record, ls_record, ds_record, awake_record = us.parse_sleep_records(split_record)"
   ]
  },
  {
   "cell_type": "code",
   "execution_count": 7,
   "metadata": {},
   "outputs": [
    {
     "data": {
      "text/plain": [
       "array(['LightSleep', 'DeepSleep', 'LightSleep', 'DeepSleep', 'LightSleep',\n",
       "       'DeepSleep', 'LightSleep', 'DeepSleep', 'LightSleep', 'DeepSleep',\n",
       "       'LightSleep', 'DeepSleep', 'LightSleep', 'DeepSleep', 'LightSleep',\n",
       "       'Awake', 'DeepSleep', 'LightSleep', 'DeepSleep', 'LightSleep',\n",
       "       'DeepSleep', 'LightSleep', 'Awake', 'DeepSleep', 'LightSleep'],\n",
       "      dtype=object)"
      ]
     },
     "execution_count": 7,
     "metadata": {},
     "output_type": "execute_result"
    }
   ],
   "source": [
    "sleep_record.stage"
   ]
  },
  {
   "cell_type": "code",
   "execution_count": 8,
   "metadata": {},
   "outputs": [
    {
     "data": {
      "text/plain": [
       "[<Pendulum [2018-03-17T00:08:10.786000-06:00]>,\n",
       " <Pendulum [2018-03-17T00:38:10.786000-06:00]>,\n",
       " <Pendulum [2018-03-17T01:08:10.786000-06:00]>,\n",
       " <Pendulum [2018-03-17T02:03:10.786000-06:00]>,\n",
       " <Pendulum [2018-03-17T03:18:10.786000-06:00]>,\n",
       " <Pendulum [2018-03-17T03:33:10.786000-06:00]>,\n",
       " <Pendulum [2018-03-17T04:08:10.786000-06:00]>,\n",
       " <Pendulum [2018-03-17T04:33:10.786000-06:00]>,\n",
       " <Pendulum [2018-03-17T05:18:10.786000-06:00]>,\n",
       " <Pendulum [2018-03-17T05:33:10.786000-06:00]>,\n",
       " <Pendulum [2018-03-17T05:58:10.786000-06:00]>,\n",
       " <Pendulum [2018-03-17T06:43:10.786000-06:00]>]"
      ]
     },
     "execution_count": 8,
     "metadata": {},
     "output_type": "execute_result"
    }
   ],
   "source": [
    "ls_record.cycle_start_time"
   ]
  },
  {
   "cell_type": "code",
   "execution_count": 9,
   "metadata": {},
   "outputs": [
    {
     "data": {
      "text/plain": [
       "[<Period [2018-03-17T04:40:16.260000-06:00 -> 2018-03-17T04:45:16.260000-06:00]>,\n",
       " <Period [2018-03-17T05:58:41.892000-06:00 -> 2018-03-17T06:08:41.892000-06:00]>]"
      ]
     },
     "execution_count": 9,
     "metadata": {},
     "output_type": "execute_result"
    }
   ],
   "source": [
    "awake_record.cycle_duration"
   ]
  },
  {
   "cell_type": "code",
   "execution_count": 10,
   "metadata": {},
   "outputs": [
    {
     "data": {
      "text/plain": [
       "('ncycles',\n",
       " 'cycle_start',\n",
       " 'cycle_end',\n",
       " 'duration_mins',\n",
       " 'stage',\n",
       " 'stage_code',\n",
       " 'timezone')"
      ]
     },
     "execution_count": 10,
     "metadata": {},
     "output_type": "execute_result"
    }
   ],
   "source": [
    "sleep_record._fields"
   ]
  },
  {
   "cell_type": "code",
   "execution_count": 11,
   "metadata": {},
   "outputs": [
    {
     "data": {
      "text/plain": [
       "array([ 5, 25, 15, 15, 15, 40, 60, 15,  5, 10, 25, 10, 15, 10, 10,  5, 35,\n",
       "        5, 10, 15, 10, 15, 10, 30, 52])"
      ]
     },
     "execution_count": 11,
     "metadata": {},
     "output_type": "execute_result"
    }
   ],
   "source": [
    "sleep_record.duration_mins"
   ]
  },
  {
   "cell_type": "markdown",
   "metadata": {},
   "source": [
    "# Now we will plot one of the sleep records"
   ]
  },
  {
   "cell_type": "code",
   "execution_count": 12,
   "metadata": {},
   "outputs": [
    {
     "name": "stdout",
     "output_type": "stream",
     "text": [
      "61.40625 65.04676275\n"
     ]
    }
   ],
   "source": [
    "heartRateData = np.array(split_record.heart_rate)\n",
    "heartRateData = np.array(heartRateData[:].T[2], dtype=float)\n",
    "rHR_p5 = np.percentile(heartRateData, 5)\n",
    "rHR = heartRateData.min()\n",
    "print(rHR, rHR_p5)"
   ]
  },
  {
   "cell_type": "code",
   "execution_count": 14,
   "metadata": {},
   "outputs": [
    {
     "data": {
      "image/png": "[encoded data removed]",
      "text/plain": [
       "<Figure size 432x288 with 1 Axes>"
      ]
     },
     "metadata": {},
     "output_type": "display_data"
    }
   ],
   "source": [
    "fig, ax = plt.subplots()\n",
    "for idx in range(sleep_record.ncycles):\n",
    "    start = sleep_record.cycle_start[idx]\n",
    "    end = sleep_record.cycle_end[idx]\n",
    "    x = [start, start, end, end]\n",
    "    scode = sleep_record.stage_code[idx]\n",
    "    \n",
    "    if sleep_record.stage[idx] == 'LightSleep':\n",
    "        y = [1.5, scode, scode, 1.5]\n",
    "        c = 'cyan'\n",
    "    elif sleep_record.stage[idx] == 'DeepSleep':\n",
    "        y = [1.5, scode, scode, 1.5]\n",
    "        c = 'blue'\n",
    "    elif sleep_record.stage[idx] == 'Awake':\n",
    "        y = [2, scode, scode, 2]\n",
    "        c = 'green'\n",
    "    ax.plot(x, y, color=c)\n",
    "ax.plot([],[], c='cyan', label='LightSleep')\n",
    "ax.plot([],[], c='blue', label='DeepSleep')\n",
    "ax.plot([],[], c='green', label='Awake')\n",
    "ax.legend(loc=1)\n",
    "ax.xaxis.set_major_formatter(mdates.DateFormatter('%H:%M:%S'))\n",
    "fig.autofmt_xdate()\n",
    "ax.set_ylim(0.5, 4)\n",
    "ax.set_yticks([1, 2, 3])\n",
    "ax.set_yticklabels(['Deep', 'Light', 'Awake'])\n",
    "ax.text(0.05, 0.9, 'Resting Heart Rate = {0}'.format(int(rHR_p5)), transform=ax.transAxes)\n",
    "plt.savefig('examples/example_sleep_record.png', bbox_inches='tight')"
   ]
  },
  {
   "cell_type": "markdown",
   "metadata": {},
   "source": [
    "# Lets iterate through the file now"
   ]
  },
  {
   "cell_type": "code",
   "execution_count": 15,
   "metadata": {},
   "outputs": [
    {
     "data": {
      "text/plain": [
       "175"
      ]
     },
     "execution_count": 15,
     "metadata": {},
     "output_type": "execute_result"
    }
   ],
   "source": [
    "fl_nLines = len(sa_file_as_list)\n",
    "fl_nLines"
   ]
  },
  {
   "cell_type": "code",
   "execution_count": 16,
   "metadata": {},
   "outputs": [
    {
     "name": "stderr",
     "output_type": "stream",
     "text": [
      "C:\\ProgramData\\Anaconda3\\lib\\site-packages\\pendulum\\pendulum.py:483: PendulumDeprecationWarning: The create() helper will no longer exist in version 2.0. Use datetime() instead.\n",
      "  return cls.create(**actual_parts)\n",
      "C:\\Repositories_C\\pyhealth\\utils_sleepasandroid.py:67: UserWarning: manual entry found, unable to parse sleep data\n",
      "  warnings.warn('manual entry found, unable to parse '\n",
      "C:\\Repositories_C\\pyhealth\\utils_sleepasandroid.py:125: UserWarning: unrecognized event: ['LOW_BATTERY', '1518789353255']\n",
      "  warnings.warn(\"unrecognized event: {0}\".format(event))\n",
      "C:\\Repositories_C\\pyhealth\\utils_sleepasandroid.py:125: UserWarning: unrecognized event: ['TRACKING_PAUSED', '1516371135501']\n",
      "  warnings.warn(\"unrecognized event: {0}\".format(event))\n",
      "C:\\Repositories_C\\pyhealth\\utils_sleepasandroid.py:125: UserWarning: unrecognized event: ['TRACKING_RESUMED', '1516371330484']\n",
      "  warnings.warn(\"unrecognized event: {0}\".format(event))\n",
      "C:\\Repositories_C\\pyhealth\\utils_sleepasandroid.py:125: UserWarning: unrecognized event: ['TRACKING_PAUSED', '1515938738634']\n",
      "  warnings.warn(\"unrecognized event: {0}\".format(event))\n",
      "C:\\Repositories_C\\pyhealth\\utils_sleepasandroid.py:125: UserWarning: unrecognized event: ['TRACKING_RESUMED', '1515938859979']\n",
      "  warnings.warn(\"unrecognized event: {0}\".format(event))\n",
      "C:\\Repositories_C\\pyhealth\\utils_sleepasandroid.py:125: UserWarning: unrecognized event: ['TRACKING_PAUSED', '1515592818031']\n",
      "  warnings.warn(\"unrecognized event: {0}\".format(event))\n",
      "C:\\Repositories_C\\pyhealth\\utils_sleepasandroid.py:125: UserWarning: unrecognized event: ['TRACKING_RESUMED', '1515593130524']\n",
      "  warnings.warn(\"unrecognized event: {0}\".format(event))\n",
      "C:\\Repositories_C\\pyhealth\\utils_sleepasandroid.py:125: UserWarning: unrecognized event: ['TRACKING_PAUSED', '1515423045601']\n",
      "  warnings.warn(\"unrecognized event: {0}\".format(event))\n",
      "C:\\Repositories_C\\pyhealth\\utils_sleepasandroid.py:125: UserWarning: unrecognized event: ['TRACKING_RESUMED', '1515423066331']\n",
      "  warnings.warn(\"unrecognized event: {0}\".format(event))\n",
      "C:\\Repositories_C\\pyhealth\\utils_sleepasandroid.py:125: UserWarning: unrecognized event: ['TRACKING_PAUSED', '1514901924298']\n",
      "  warnings.warn(\"unrecognized event: {0}\".format(event))\n",
      "C:\\Repositories_C\\pyhealth\\utils_sleepasandroid.py:125: UserWarning: unrecognized event: ['TRACKING_RESUMED', '1514902246698']\n",
      "  warnings.warn(\"unrecognized event: {0}\".format(event))\n",
      "C:\\Repositories_C\\pyhealth\\utils_sleepasandroid.py:125: UserWarning: unrecognized event: ['TRACKING_PAUSED', '1514818000157']\n",
      "  warnings.warn(\"unrecognized event: {0}\".format(event))\n",
      "C:\\Repositories_C\\pyhealth\\utils_sleepasandroid.py:125: UserWarning: unrecognized event: ['TRACKING_RESUMED', '1514818211543']\n",
      "  warnings.warn(\"unrecognized event: {0}\".format(event))\n",
      "C:\\Repositories_C\\pyhealth\\utils_sleepasandroid.py:125: UserWarning: unrecognized event: ['TRACKING_PAUSED', '1514560026356']\n",
      "  warnings.warn(\"unrecognized event: {0}\".format(event))\n",
      "C:\\Repositories_C\\pyhealth\\utils_sleepasandroid.py:125: UserWarning: unrecognized event: ['TRACKING_RESUMED', '1514560049274']\n",
      "  warnings.warn(\"unrecognized event: {0}\".format(event))\n",
      "C:\\Repositories_C\\pyhealth\\utils_sleepasandroid.py:125: UserWarning: unrecognized event: ['TRACKING_PAUSED', '1514387268740']\n",
      "  warnings.warn(\"unrecognized event: {0}\".format(event))\n",
      "C:\\Repositories_C\\pyhealth\\utils_sleepasandroid.py:125: UserWarning: unrecognized event: ['TRACKING_RESUMED', '1514387591966']\n",
      "  warnings.warn(\"unrecognized event: {0}\".format(event))\n",
      "C:\\Repositories_C\\pyhealth\\utils_sleepasandroid.py:125: UserWarning: unrecognized event: ['TRACKING_PAUSED', '1514300020341']\n",
      "  warnings.warn(\"unrecognized event: {0}\".format(event))\n",
      "C:\\Repositories_C\\pyhealth\\utils_sleepasandroid.py:125: UserWarning: unrecognized event: ['TRACKING_RESUMED', '1514300136602']\n",
      "  warnings.warn(\"unrecognized event: {0}\".format(event))\n",
      "C:\\Repositories_C\\pyhealth\\utils_sleepasandroid.py:125: UserWarning: unrecognized event: ['TRACKING_PAUSED', '1514187736003']\n",
      "  warnings.warn(\"unrecognized event: {0}\".format(event))\n",
      "C:\\Repositories_C\\pyhealth\\utils_sleepasandroid.py:125: UserWarning: unrecognized event: ['TRACKING_RESUMED', '1514187759633']\n",
      "  warnings.warn(\"unrecognized event: {0}\".format(event))\n",
      "C:\\Repositories_C\\pyhealth\\utils_sleepasandroid.py:125: UserWarning: unrecognized event: ['TRACKING_PAUSED', '1514214969606']\n",
      "  warnings.warn(\"unrecognized event: {0}\".format(event))\n",
      "C:\\Repositories_C\\pyhealth\\utils_sleepasandroid.py:125: UserWarning: unrecognized event: ['TRACKING_RESUMED', '1514214989824']\n",
      "  warnings.warn(\"unrecognized event: {0}\".format(event))\n",
      "C:\\Repositories_C\\pyhealth\\utils_sleepasandroid.py:125: UserWarning: unrecognized event: ['TRACKING_PAUSED', '1514127732806']\n",
      "  warnings.warn(\"unrecognized event: {0}\".format(event))\n",
      "C:\\Repositories_C\\pyhealth\\utils_sleepasandroid.py:125: UserWarning: unrecognized event: ['TRACKING_RESUMED', '1514127764721']\n",
      "  warnings.warn(\"unrecognized event: {0}\".format(event))\n",
      "C:\\Repositories_C\\pyhealth\\utils_sleepasandroid.py:125: UserWarning: unrecognized event: ['TRACKING_PAUSED', '1513508155744']\n",
      "  warnings.warn(\"unrecognized event: {0}\".format(event))\n",
      "C:\\Repositories_C\\pyhealth\\utils_sleepasandroid.py:125: UserWarning: unrecognized event: ['TRACKING_RESUMED', '1513509276461']\n",
      "  warnings.warn(\"unrecognized event: {0}\".format(event))\n",
      "C:\\Repositories_C\\pyhealth\\utils_sleepasandroid.py:125: UserWarning: unrecognized event: ['TRACKING_PAUSED', '1513434373250']\n",
      "  warnings.warn(\"unrecognized event: {0}\".format(event))\n",
      "C:\\Repositories_C\\pyhealth\\utils_sleepasandroid.py:125: UserWarning: unrecognized event: ['TRACKING_RESUMED', '1513434400663']\n",
      "  warnings.warn(\"unrecognized event: {0}\".format(event))\n"
     ]
    }
   ],
   "source": [
    "idx = 0\n",
    "RestingHR = []\n",
    "RestingHRp5 = []\n",
    "hr_date = np.array([], dtype='datetime64')\n",
    "while idx < fl_nLines:\n",
    "    if 'Id' in sa_file_as_list[idx]:\n",
    "        split_record = us.split_sleepasandroid_record(sa_file_as_list, idx)\n",
    "        if split_record:\n",
    "            if split_record.heart_rate:\n",
    "                heartRateData = np.array(split_record.heart_rate)\n",
    "                heartRateData = np.array(heartRateData[:].T[2], dtype=float)\n",
    "                RestingHRp5.append(int(np.percentile(heartRateData, 5)))\n",
    "                RestingHR.append(int(heartRateData.min()))\n",
    "                hr_date = np.append(hr_date, np.datetime64(split_record.start_datetime.to_date_string()))\n",
    "                #hr_date.append(split_record.start_datetime.to_date_string())\n",
    "    idx += 1"
   ]
  },
  {
   "cell_type": "code",
   "execution_count": 17,
   "metadata": {},
   "outputs": [
    {
     "data": {
      "text/plain": [
       "array(['2018-03-17', '2018-03-16', '2018-03-15', '2018-03-12',\n",
       "       '2018-03-11', '2018-03-10', '2018-03-09', '2018-03-07',\n",
       "       '2018-03-06', '2018-03-05', '2018-03-04', '2018-03-03',\n",
       "       '2018-03-02', '2018-03-01', '2018-02-28', '2018-02-27',\n",
       "       '2018-02-26', '2018-02-25', '2018-02-24', '2018-02-23',\n",
       "       '2018-02-21', '2018-02-20', '2018-02-18', '2018-02-17',\n",
       "       '2018-02-16', '2018-02-14', '2018-02-13', '2018-02-11',\n",
       "       '2018-02-10', '2018-02-09', '2018-02-08', '2018-02-07',\n",
       "       '2018-02-06', '2018-02-05', '2018-02-03', '2018-02-02',\n",
       "       '2018-02-01', '2018-01-31', '2018-01-30', '2018-01-29',\n",
       "       '2018-01-27', '2018-01-26', '2018-01-25', '2018-01-24',\n",
       "       '2018-01-23', '2018-01-21', '2018-01-20', '2018-01-19',\n",
       "       '2018-01-17', '2018-01-16', '2018-01-15', '2018-01-14',\n",
       "       '2018-01-12', '2018-01-11', '2018-01-10', '2018-01-09',\n",
       "       '2018-01-08', '2018-01-05', '2018-01-04', '2018-01-03',\n",
       "       '2018-01-02', '2018-01-01', '2017-12-30', '2017-12-29',\n",
       "       '2017-12-28', '2017-12-27', '2017-12-26', '2017-12-25',\n",
       "       '2017-12-24', '2017-12-23', '2017-12-21', '2017-12-20',\n",
       "       '2017-12-19', '2017-12-18', '2017-12-17', '2017-12-16'],\n",
       "      dtype='datetime64[D]')"
      ]
     },
     "execution_count": 17,
     "metadata": {},
     "output_type": "execute_result"
    }
   ],
   "source": [
    "# What days did I collect heart rate data from?\n",
    "hr_date"
   ]
  },
  {
   "cell_type": "markdown",
   "metadata": {},
   "source": [
    "## Plot the resting heart data "
   ]
  },
  {
   "cell_type": "code",
   "execution_count": 18,
   "metadata": {},
   "outputs": [
    {
     "data": {
      "image/png": "[encoded data removed]",
      "text/plain": [
       "<Figure size 864x288 with 1 Axes>"
      ]
     },
     "metadata": {},
     "output_type": "display_data"
    }
   ],
   "source": [
    "fig, ax = plt.subplots(figsize=(12, 4))\n",
    "\n",
    "ax.plot_date(hr_date, RestingHRp5, 'blue', label='P5 HR')\n",
    "ax.plot_date(hr_date, RestingHR, 'cyan', label='Minimum HR')\n",
    "ax.set_title('Resting Heart Rate')\n",
    "ax.set_ylabel('Heart Rate BPM')\n",
    "ax.legend(loc=4)\n",
    "#ax.format_xdata = mdates.DateFormatter('%m-%d')\n",
    "ax.xaxis.set_major_formatter(mdates.DateFormatter('%m-%d'))\n",
    "fig.autofmt_xdate()\n",
    "plt.savefig('examples/example_resting_heartrate.png', bbox_inches='tight')"
   ]
  },
  {
   "cell_type": "code",
   "execution_count": null,
   "metadata": {},
   "outputs": [],
   "source": []
  }
 ],
 "metadata": {
  "kernelspec": {
   "display_name": "Python 3",
   "language": "python",
   "name": "python3"
  },
  "language_info": {
   "codemirror_mode": {
    "name": "ipython",
    "version": 3
   },
   "file_extension": ".py",
   "mimetype": "text/x-python",
   "name": "python",
   "nbconvert_exporter": "python",
   "pygments_lexer": "ipython3",
   "version": "3.6.5"
  }
 },
 "nbformat": 4,
 "nbformat_minor": 2
}
