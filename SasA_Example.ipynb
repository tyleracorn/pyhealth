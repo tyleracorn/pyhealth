{
 "cells": [
  {
   "cell_type": "code",
   "execution_count": 1,
   "metadata": {},
   "outputs": [],
   "source": [
    "import utils_sleepasandroid as us\n",
    "import matplotlib.pyplot as plt\n",
    "import numpy as np\n",
    "import os"
   ]
  },
  {
   "cell_type": "code",
   "execution_count": 2,
   "metadata": {},
   "outputs": [],
   "source": [
    "%matplotlib inline\n",
    "%load_ext autoreload\n",
    "%autoreload 2"
   ]
  },
  {
   "cell_type": "code",
   "execution_count": 3,
   "metadata": {},
   "outputs": [
    {
     "data": {
      "text/plain": [
       "['Id',\n",
       " 'Tz',\n",
       " 'From',\n",
       " 'To',\n",
       " 'Sched',\n",
       " 'Hours',\n",
       " 'Rating',\n",
       " 'Comment',\n",
       " 'Framerate',\n",
       " 'Snore',\n",
       " 'Noise',\n",
       " 'Cycles',\n",
       " 'DeepSleep',\n",
       " 'LenAdjust',\n",
       " 'Geo']"
      ]
     },
     "execution_count": 3,
     "metadata": {},
     "output_type": "execute_result"
    }
   ],
   "source": [
    "# Read in the Sleep as Android data and print some of the headers\n",
    "SA_data = 'sample_data/SleepAsAndroid_data.csv'\n",
    "sa_file_as_list = us.read_sleepasandroid_file(SA_data)\n",
    "sa_file_as_list[0][0:15]"
   ]
  },
  {
   "cell_type": "code",
   "execution_count": 4,
   "metadata": {},
   "outputs": [
    {
     "data": {
      "text/plain": [
       "array([['AWAKE_START', '1521283215630'],\n",
       "       ['AWAKE_END', '1521283515630'],\n",
       "       ['AWAKE_START', '1521287920946'],\n",
       "       ['AWAKE_END', '1521288520946']], dtype='<U13')"
      ]
     },
     "execution_count": 4,
     "metadata": {},
     "output_type": "execute_result"
    }
   ],
   "source": [
    "# Parse the first record\n",
    "ridx  = 0\n",
    "split_record = us.split_sleepasandroid_record(sa_file_as_list, ridx)\n",
    "\n",
    "# Print the awake records to get an idea of the data\n",
    "split_record.awake"
   ]
  },
  {
   "cell_type": "code",
   "execution_count": 5,
   "metadata": {},
   "outputs": [
    {
     "data": {
      "text/plain": [
       "array([['LIGHT_START', '1521266889893'],\n",
       "       ['LIGHT_END', '1521267189893'],\n",
       "       ['LIGHT_START', '1521268689893'],\n",
       "       ['LIGHT_END', '1521269589893'],\n",
       "       ['LIGHT_START', '1521270489893'],\n",
       "       ['LIGHT_END', '1521271389893']], dtype='<U13')"
      ]
     },
     "execution_count": 5,
     "metadata": {},
     "output_type": "execute_result"
    }
   ],
   "source": [
    "split_record.light_sleep[0:6]"
   ]
  },
  {
   "cell_type": "code",
   "execution_count": 6,
   "metadata": {},
   "outputs": [
    {
     "data": {
      "text/plain": [
       "array([['DEEP_START', '1521267189893'],\n",
       "       ['DEEP_END', '1521268689893'],\n",
       "       ['DEEP_START', '1521269589893'],\n",
       "       ['DEEP_END', '1521270489893'],\n",
       "       ['DEEP_START', '1521271389893'],\n",
       "       ['DEEP_END', '1521273789893']], dtype='<U13')"
      ]
     },
     "execution_count": 6,
     "metadata": {},
     "output_type": "execute_result"
    }
   ],
   "source": [
    "split_record.deep_sleep[0:6]"
   ]
  },
  {
   "cell_type": "code",
   "execution_count": 26,
   "metadata": {},
   "outputs": [
    {
     "data": {
      "text/plain": [
       "array(['73.48148', '66.39773', '62.09375', '64.16071', '66.6625',\n",
       "       '72.675', '67.03125', '72.00781', '79.13393', '86.291664',\n",
       "       '77.39946', '69.81641', '88.6375', '71.11667', '74.87891',\n",
       "       '75.89453', '74.953125', '77.52187', '81.85', '75.009865',\n",
       "       '79.10714', '85.35304', '78.41912', '88.5', '85.52419',\n",
       "       '79.177086', '79.15131', '84.958336', '87.12216', '71.53571',\n",
       "       '75.25', '77.79107', '81.14732', '76.1546', '76.1875', '76.26488',\n",
       "       '74.13015', '71.08263', '71.5625', '78.43304', '70.25329',\n",
       "       '70.427086', '72.64946', '75.625', '83.270836', '76.89332',\n",
       "       '80.75694', '78.604164', '72.47321', '71.61556', '69.992645',\n",
       "       '68.822914', '69.93588', '70.270836', '101.60714', '99.9375',\n",
       "       '71.69688', '87.078125', '75.395836', '81.2474', '74.9',\n",
       "       '96.604164', '73.46875', '80.30312', '68.05882', '61.40625',\n",
       "       '67.18437', '63.34375', '65.203125', '66.5', '68.986145',\n",
       "       '67.879166', '66.74009', '72.20536', '73.824776', '65.6875',\n",
       "       '67.140625', '74.337616'], dtype='<U13')"
      ]
     },
     "execution_count": 26,
     "metadata": {},
     "output_type": "execute_result"
    }
   ],
   "source": [
    "split_record.hr[:].T[2]"
   ]
  },
  {
   "cell_type": "code",
   "execution_count": 9,
   "metadata": {},
   "outputs": [],
   "source": [
    "sleep_record, ls_record, ds_record, awake_record = us.parse_sleep_records(split_record)"
   ]
  },
  {
   "cell_type": "code",
   "execution_count": 10,
   "metadata": {},
   "outputs": [
    {
     "data": {
      "text/plain": [
       "array(['LightSleep', 'DeepSleep', 'LightSleep', 'DeepSleep', 'LightSleep',\n",
       "       'DeepSleep', 'LightSleep', 'DeepSleep', 'LightSleep', 'DeepSleep',\n",
       "       'LightSleep', 'DeepSleep', 'LightSleep', 'DeepSleep', 'LightSleep',\n",
       "       'Awake', 'DeepSleep', 'LightSleep', 'DeepSleep', 'LightSleep',\n",
       "       'DeepSleep', 'LightSleep', 'Awake', 'DeepSleep', 'LightSleep'],\n",
       "      dtype=object)"
      ]
     },
     "execution_count": 10,
     "metadata": {},
     "output_type": "execute_result"
    }
   ],
   "source": [
    "sleep_record.stage"
   ]
  },
  {
   "cell_type": "code",
   "execution_count": 18,
   "metadata": {},
   "outputs": [
    {
     "data": {
      "text/plain": [
       "array([       0,  1800000,  3600000,  6900000, 11400000, 12300000,\n",
       "       14400000, 15900000, 18600000, 19500000, 21000000, 23700000])"
      ]
     },
     "execution_count": 18,
     "metadata": {},
     "output_type": "execute_result"
    }
   ],
   "source": [
    "ls_record.cycle_start_ms"
   ]
  },
  {
   "cell_type": "code",
   "execution_count": 19,
   "metadata": {},
   "outputs": [
    {
     "data": {
      "text/plain": [
       "array([  300000,  2700000,  4500000, 10500000, 11700000, 13800000,\n",
       "       15300000, 16500000, 18900000, 20400000, 21900000, 26878512])"
      ]
     },
     "execution_count": 19,
     "metadata": {},
     "output_type": "execute_result"
    }
   ],
   "source": [
    "ls_record.cycle_end_ms"
   ]
  },
  {
   "cell_type": "code",
   "execution_count": 17,
   "metadata": {},
   "outputs": [
    {
     "data": {
      "text/plain": [
       "Awake_Record(cycle_start_ms=array([16325737, 21031053]), cycle_end_ms=array([16625737, 21631053]), cycle_duration_ms=array([300000, 600000]), ncycles=2)"
      ]
     },
     "execution_count": 17,
     "metadata": {},
     "output_type": "execute_result"
    }
   ],
   "source": [
    "awake_record"
   ]
  },
  {
   "cell_type": "code",
   "execution_count": 12,
   "metadata": {},
   "outputs": [
    {
     "data": {
      "text/plain": [
       "('ncycles', 'start_ms', 'end_ms', 'duration_ms', 'stage', 'stage_code')"
      ]
     },
     "execution_count": 12,
     "metadata": {},
     "output_type": "execute_result"
    }
   ],
   "source": [
    "sleep_record._fields"
   ]
  },
  {
   "cell_type": "code",
   "execution_count": 15,
   "metadata": {},
   "outputs": [
    {
     "data": {
      "text/plain": [
       "array([       0,   300000,  1800000,  2700000,  3600000,  4500000,\n",
       "        6900000, 10500000, 11400000, 11700000, 12300000, 13800000,\n",
       "       14400000, 15300000, 15900000, 16325737, 16500000, 18600000,\n",
       "       18900000, 19500000, 20400000, 21000000, 21031053, 21900000,\n",
       "       23700000])"
      ]
     },
     "execution_count": 15,
     "metadata": {},
     "output_type": "execute_result"
    }
   ],
   "source": [
    "sleep_record.start_ms"
   ]
  },
  {
   "cell_type": "code",
   "execution_count": 16,
   "metadata": {},
   "outputs": [
    {
     "data": {
      "text/plain": [
       "array([  300000,  1800000,  2700000,  3600000,  4500000,  6900000,\n",
       "       10500000, 11400000, 11700000, 12300000, 13800000, 14400000,\n",
       "       15300000, 15900000, 16500000, 16625737, 18600000, 18900000,\n",
       "       19500000, 20400000, 21000000, 21900000, 21631053, 23700000,\n",
       "       26878512])"
      ]
     },
     "execution_count": 16,
     "metadata": {},
     "output_type": "execute_result"
    }
   ],
   "source": [
    "sleep_record.end_ms"
   ]
  },
  {
   "cell_type": "code",
   "execution_count": 28,
   "metadata": {},
   "outputs": [
    {
     "name": "stdout",
     "output_type": "stream",
     "text": [
      "61.40625 65.04676275\n"
     ]
    }
   ],
   "source": [
    "heartRateData = np.array(split_record.hr[:].T[2], dtype=float)\n",
    "rHR_p5 = np.percentile(heartRateData, 5)\n",
    "rHR = heartRateData.min()\n",
    "print(rHR, rHR_p5)"
   ]
  },
  {
   "cell_type": "code",
   "execution_count": 29,
   "metadata": {},
   "outputs": [
    {
     "data": {
      "text/plain": [
       "Text(30000,2.25,'Resting Heart Rate = 65')"
      ]
     },
     "execution_count": 29,
     "metadata": {},
     "output_type": "execute_result"
    },
    {
     "data": {
      "image/png": "[encoded data removed]",
      "text/plain": [
       "<Figure size 432x288 with 1 Axes>"
      ]
     },
     "metadata": {},
     "output_type": "display_data"
    }
   ],
   "source": [
    "fig, ax = plt.subplots()\n",
    "for idx in range(sleep_record.ncycles):\n",
    "    start = sleep_record.start_ms[idx]\n",
    "    end = sleep_record.end_ms[idx]\n",
    "    x = [start, start, end, end]\n",
    "    scode = sleep_record.stage_code[idx]\n",
    "    \n",
    "    if sleep_record.stage[idx] == 'LightSleep':\n",
    "        y = [1.5, scode, scode, 1.5]\n",
    "        c = 'cyan'\n",
    "    elif sleep_record.stage[idx] == 'DeepSleep':\n",
    "        y = [1.5, scode, scode, 1.5]\n",
    "        c = 'blue'\n",
    "    elif sleep_record.stage[idx] == 'Awake':\n",
    "        y = [2, scode, scode, 2]\n",
    "        c = 'green'\n",
    "    ax.plot(x, y, color=c)\n",
    "ax.plot([],[], c='cyan', label='LightSleep')\n",
    "ax.plot([],[], c='blue', label='DeepSleep')\n",
    "ax.plot([],[], c='green', label='Awake')\n",
    "ax.legend(loc=2)\n",
    "ax.text(30000, 2.25, 'Resting Heart Rate = {0}'.format(int(rHR_p5)))"
   ]
  },
  {
   "cell_type": "code",
   "execution_count": null,
   "metadata": {},
   "outputs": [],
   "source": []
  }
 ],
 "metadata": {
  "kernelspec": {
   "display_name": "Python 3",
   "language": "python",
   "name": "python3"
  },
  "language_info": {
   "codemirror_mode": {
    "name": "ipython",
    "version": 3
   },
   "file_extension": ".py",
   "mimetype": "text/x-python",
   "name": "python",
   "nbconvert_exporter": "python",
   "pygments_lexer": "ipython3",
   "version": "3.6.5"
  }
 },
 "nbformat": 4,
 "nbformat_minor": 2
}
